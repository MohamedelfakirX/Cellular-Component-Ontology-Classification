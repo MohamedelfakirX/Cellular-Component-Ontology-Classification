{
 "cells": [
  {
   "cell_type": "markdown",
   "id": "14bb652d-33a3-4856-a674-11fdbb98f047",
   "metadata": {},
   "source": [
    "# Install libraries"
   ]
  },
  {
   "cell_type": "code",
   "execution_count": 1,
   "id": "d514801b-cb8f-49c6-85c5-84a49a687ee2",
   "metadata": {
    "tags": []
   },
   "outputs": [],
   "source": [
    "from IPython.display import clear_output\n",
    "# !pip install  spacy\n",
    "# !pip install tqdm\n",
    "# !pip install plotly\n",
    "!pip install jupyter-black\n",
    "!pip install imblearn\n",
    "!pip install transformers\n",
    "!pip install sentencepiece\n",
    "\n",
    "clear_output()"
   ]
  },
  {
   "cell_type": "markdown",
   "id": "aab47875-d7b8-467e-9f9a-824abb3b9105",
   "metadata": {},
   "source": [
    "## Data preprocessing"
   ]
  },
  {
   "cell_type": "markdown",
   "id": "8b92068b-ba2c-4f7d-b774-e77d9743c4f9",
   "metadata": {},
   "source": [
    "### Import libraries"
   ]
  },
  {
   "cell_type": "code",
   "execution_count": 2,
   "id": "0f3f4560-096a-4342-9371-ccb1bbaef8b0",
   "metadata": {
    "tags": []
   },
   "outputs": [],
   "source": [
    "import csv\n",
    "import re\n",
    "import numpy as np\n",
    "from sklearn.metrics import accuracy_score, log_loss\n",
    "from sklearn.feature_extraction.text import TfidfVectorizer\n",
    "from sklearn.linear_model import LogisticRegression\n",
    "import pandas as pd\n",
    "from sklearn.neighbors import KNeighborsClassifier\n",
    "from sklearn.metrics import accuracy_score\n",
    "import pandas as pd\n",
    "from sklearn.metrics import classification_report\n",
    "from tqdm.notebook import tqdm\n",
    "\n",
    "tqdm.pandas()"
   ]
  },
  {
   "cell_type": "code",
   "execution_count": 3,
   "id": "ba5fcdd3-4daf-4942-bdec-989e2c169e6c",
   "metadata": {
    "tags": []
   },
   "outputs": [
    {
     "data": {
      "text/html": [
       "\n",
       "                <script type=\"application/javascript\" id=\"jupyter_black\">\n",
       "                (function() {\n",
       "                    if (window.IPython === undefined) {\n",
       "                        return\n",
       "                    }\n",
       "                    var msg = \"WARNING: it looks like you might have loaded \" +\n",
       "                        \"jupyter_black in a non-lab notebook with \" +\n",
       "                        \"`is_lab=True`. Please double check, and if \" +\n",
       "                        \"loading with `%load_ext` please review the README!\"\n",
       "                    console.log(msg)\n",
       "                    alert(msg)\n",
       "                })()\n",
       "                </script>\n",
       "                "
      ],
      "text/plain": [
       "<IPython.core.display.HTML object>"
      ]
     },
     "metadata": {},
     "output_type": "display_data"
    }
   ],
   "source": [
    "%load_ext jupyter_black"
   ]
  },
  {
   "cell_type": "code",
   "execution_count": 4,
   "id": "7a331634-a658-4862-acd5-cb498ef7064f",
   "metadata": {
    "tags": []
   },
   "outputs": [],
   "source": [
    "np.set_printoptions(precision=4)"
   ]
  },
  {
   "cell_type": "markdown",
   "id": "44121573-5f12-45de-9286-3e7c4d79050d",
   "metadata": {},
   "source": [
    "### Import sequence data"
   ]
  },
  {
   "cell_type": "code",
   "execution_count": 5,
   "id": "ba141e71-43b6-4129-8477-8d5160f317dc",
   "metadata": {
    "tags": []
   },
   "outputs": [
    {
     "ename": "FileNotFoundError",
     "evalue": "[Errno 2] No such file or directory: 'sequences.txt'",
     "output_type": "error",
     "traceback": [
      "\u001b[0;31m---------------------------------------------------------------------------\u001b[0m",
      "\u001b[0;31mFileNotFoundError\u001b[0m                         Traceback (most recent call last)",
      "Input \u001b[0;32mIn [5]\u001b[0m, in \u001b[0;36m<cell line: 3>\u001b[0;34m()\u001b[0m\n\u001b[1;32m      1\u001b[0m \u001b[38;5;66;03m# Read sequences\u001b[39;00m\n\u001b[1;32m      2\u001b[0m sequences \u001b[38;5;241m=\u001b[39m \u001b[38;5;28mlist\u001b[39m()\n\u001b[0;32m----> 3\u001b[0m \u001b[38;5;28;01mwith\u001b[39;00m \u001b[38;5;28;43mopen\u001b[39;49m\u001b[43m(\u001b[49m\u001b[38;5;124;43m\"\u001b[39;49m\u001b[38;5;124;43msequences.txt\u001b[39;49m\u001b[38;5;124;43m\"\u001b[39;49m\u001b[43m,\u001b[49m\u001b[43m \u001b[49m\u001b[38;5;124;43m\"\u001b[39;49m\u001b[38;5;124;43mr\u001b[39;49m\u001b[38;5;124;43m\"\u001b[39;49m\u001b[43m)\u001b[49m \u001b[38;5;28;01mas\u001b[39;00m f:\n\u001b[1;32m      4\u001b[0m     \u001b[38;5;28;01mfor\u001b[39;00m line \u001b[38;5;129;01min\u001b[39;00m f:\n\u001b[1;32m      5\u001b[0m         sequences\u001b[38;5;241m.\u001b[39mappend(line[:\u001b[38;5;241m-\u001b[39m\u001b[38;5;241m1\u001b[39m])\n",
      "\u001b[0;31mFileNotFoundError\u001b[0m: [Errno 2] No such file or directory: 'sequences.txt'"
     ]
    }
   ],
   "source": [
    "# Read sequences\n",
    "sequences = list()\n",
    "with open(\"sequences.txt\", \"r\") as f:\n",
    "    for line in f:\n",
    "        sequences.append(line[:-1])\n",
    "\n",
    "# Split data into training and test sets\n",
    "sequences_train = list()\n",
    "sequences_test = list()\n",
    "proteins_test = list()\n",
    "train_target = list()\n",
    "with open(\"graph_labels.txt\", \"r\") as f:\n",
    "    for i, line in enumerate(f):\n",
    "        t = line.split(\",\")\n",
    "        if len(t[1][:-1]) == 0:\n",
    "            proteins_test.append(t[0])\n",
    "            sequences_test.append(sequences[i])\n",
    "        else:\n",
    "            sequences_train.append(sequences[i])\n",
    "            train_target.append(int(t[1][:-1]))\n",
    "\n",
    "sequences_train = np.array(sequences_train)\n",
    "train_target = np.array(train_target)\n",
    "sequences_test = np.array(sequences_test)"
   ]
  },
  {
   "cell_type": "code",
   "execution_count": 119,
   "id": "8d37beaf-7bc8-4804-b9e7-c69442ddd119",
   "metadata": {
    "execution": {
     "iopub.execute_input": "2023-01-19T00:59:12.659200Z",
     "iopub.status.busy": "2023-01-19T00:59:12.658854Z",
     "iopub.status.idle": "2023-01-19T00:59:12.678460Z",
     "shell.execute_reply": "2023-01-19T00:59:12.677252Z",
     "shell.execute_reply.started": "2023-01-19T00:59:12.659175Z"
    }
   },
   "outputs": [],
   "source": [
    "data = pd.DataFrame({\"seq\": sequences_train, \"target\": train_target})"
   ]
  },
  {
   "cell_type": "code",
   "execution_count": 120,
   "id": "9e226940-ef41-4472-81cf-aa6197057635",
   "metadata": {
    "execution": {
     "iopub.execute_input": "2023-01-19T00:59:12.863437Z",
     "iopub.status.busy": "2023-01-19T00:59:12.862463Z",
     "iopub.status.idle": "2023-01-19T00:59:12.872699Z",
     "shell.execute_reply": "2023-01-19T00:59:12.871941Z",
     "shell.execute_reply.started": "2023-01-19T00:59:12.863408Z"
    }
   },
   "outputs": [],
   "source": [
    "unseen = pd.DataFrame({\"seq\": sequences_test})"
   ]
  },
  {
   "cell_type": "code",
   "execution_count": 121,
   "id": "d50ec40a-3d0e-4cb5-9272-18352a1dd755",
   "metadata": {
    "execution": {
     "iopub.execute_input": "2023-01-19T00:59:12.939142Z",
     "iopub.status.busy": "2023-01-19T00:59:12.938838Z",
     "iopub.status.idle": "2023-01-19T00:59:13.122486Z",
     "shell.execute_reply": "2023-01-19T00:59:13.121314Z",
     "shell.execute_reply.started": "2023-01-19T00:59:12.939117Z"
    }
   },
   "outputs": [
    {
     "data": {
      "text/plain": [
       "<AxesSubplot:>"
      ]
     },
     "execution_count": 121,
     "metadata": {},
     "output_type": "execute_result"
    },
    {
     "data": {
      "image/png": "[encoded data removed]",
      "text/plain": [
       "<Figure size 432x288 with 1 Axes>"
      ]
     },
     "metadata": {
      "needs_background": "light"
     },
     "output_type": "display_data"
    }
   ],
   "source": [
    "data.target.hist(bins=17)"
   ]
  },
  {
   "cell_type": "code",
   "execution_count": 122,
   "id": "cd51e667-f8c5-4945-8da1-fb1460e584ae",
   "metadata": {
    "execution": {
     "iopub.execute_input": "2023-01-19T00:59:13.124803Z",
     "iopub.status.busy": "2023-01-19T00:59:13.124408Z",
     "iopub.status.idle": "2023-01-19T00:59:13.213178Z",
     "shell.execute_reply": "2023-01-19T00:59:13.212105Z",
     "shell.execute_reply.started": "2023-01-19T00:59:13.124776Z"
    }
   },
   "outputs": [
    {
     "data": {
      "application/vnd.jupyter.widget-view+json": {
       "model_id": "aa3b971e6623456b95c948028771cc07",
       "version_major": 2,
       "version_minor": 0
      },
      "text/plain": [
       "  0%|          | 0/4888 [00:00<?, ?it/s]"
      ]
     },
     "metadata": {},
     "output_type": "display_data"
    },
    {
     "data": {
      "application/vnd.jupyter.widget-view+json": {
       "model_id": "ddd70358a9cd483a9a6111337253f83e",
       "version_major": 2,
       "version_minor": 0
      },
      "text/plain": [
       "  0%|          | 0/4888 [00:00<?, ?it/s]"
      ]
     },
     "metadata": {},
     "output_type": "display_data"
    },
    {
     "name": "stdout",
     "output_type": "stream",
     "text": [
      "258.14279869067104\n",
      "mean 258.14279869067104 and std is 162.24346887570542\n"
     ]
    }
   ],
   "source": [
    "mean_carr = np.mean(data.seq.progress_apply(len))\n",
    "std_carr = np.std(data.seq.progress_apply(len))\n",
    "print(mean_carr)\n",
    "print(\"mean\", mean_carr, \"and std is\", std_carr)"
   ]
  },
  {
   "cell_type": "markdown",
   "id": "884f8a40-d81d-4c7a-ab87-6cf914da9fc4",
   "metadata": {},
   "source": [
    "We notice that the target isn't balanced, so we will take that into consideration by :\n",
    "- adding sample weight in logistic regression and the other models that supports weight to impact directly the loss function\n",
    "- we can make an oversampling using duplication which is poor or using smote (that add some guassian noise )\n",
    "- we can make an undersampling by reducing the number of majority class samples"
   ]
  },
  {
   "cell_type": "markdown",
   "id": "dcd1968a-5a81-4861-a099-c1346ec96ddc",
   "metadata": {},
   "source": [
    "### Important functions "
   ]
  },
  {
   "cell_type": "code",
   "execution_count": 123,
   "id": "6a916f1a-317a-402a-9ec6-db0923a97dd5",
   "metadata": {
    "execution": {
     "iopub.execute_input": "2023-01-19T00:59:16.414000Z",
     "iopub.status.busy": "2023-01-19T00:59:16.413345Z",
     "iopub.status.idle": "2023-01-19T00:59:16.425305Z",
     "shell.execute_reply": "2023-01-19T00:59:16.424044Z",
     "shell.execute_reply.started": "2023-01-19T00:59:16.413956Z"
    }
   },
   "outputs": [],
   "source": [
    "def softmax(x):\n",
    "    y = np.exp(x - np.max(x))\n",
    "    f_x = y / np.sum(np.exp(x))\n",
    "    return f_x\n",
    "\n",
    "\n",
    "softmax_vect = np.vectorize(softmax)"
   ]
  },
  {
   "cell_type": "code",
   "execution_count": 124,
   "id": "e8af066c-582f-4792-abaa-5f32e32f2ff3",
   "metadata": {
    "execution": {
     "iopub.execute_input": "2023-01-19T00:59:20.334034Z",
     "iopub.status.busy": "2023-01-19T00:59:20.332636Z",
     "iopub.status.idle": "2023-01-19T00:59:20.354742Z",
     "shell.execute_reply": "2023-01-19T00:59:20.353491Z",
     "shell.execute_reply.started": "2023-01-19T00:59:20.333989Z"
    }
   },
   "outputs": [],
   "source": [
    "# weighted multi-class log loss\n",
    "from sklearn.metrics import log_loss\n",
    "\n",
    "\n",
    "def weighted_mc_log_loss(y_true, y_pred, y_pred_proba):\n",
    "    loss = log_loss(y_true, y_pred_proba, labels=np.unique(y_true))\n",
    "    accuracy = round((y_true == y_pred).sum() / len(y_true) * 100, 2)\n",
    "    return print(f\"{loss = } and accuracy {accuracy = }\")"
   ]
  },
  {
   "cell_type": "code",
   "execution_count": 125,
   "id": "00dc7a6f-c7d5-4cbb-b0a7-539e42eeeb2f",
   "metadata": {
    "execution": {
     "iopub.execute_input": "2023-01-19T00:59:20.906778Z",
     "iopub.status.busy": "2023-01-19T00:59:20.906387Z",
     "iopub.status.idle": "2023-01-19T00:59:20.933183Z",
     "shell.execute_reply": "2023-01-19T00:59:20.931762Z",
     "shell.execute_reply.started": "2023-01-19T00:59:20.906749Z"
    }
   },
   "outputs": [],
   "source": [
    "def submit(y_pred_proba):\n",
    "    # Write predictions to a file\n",
    "    with open(\"sample_submission.csv\", \"w\") as csvfile:\n",
    "        writer = csv.writer(csvfile, delimiter=\",\")\n",
    "        lst = list()\n",
    "        for i in range(18):\n",
    "            lst.append(\"class\" + str(i))\n",
    "        lst.insert(0, \"name\")\n",
    "        writer.writerow(lst)\n",
    "        for i, protein in enumerate(proteins_test):\n",
    "            lst = y_pred_proba[i, :].tolist()\n",
    "            lst.insert(0, protein)\n",
    "            writer.writerow(lst)"
   ]
  },
  {
   "cell_type": "markdown",
   "id": "28ea347c-2cf8-4fe4-aca4-7ae63f266b1b",
   "metadata": {},
   "source": [
    "### Split data"
   ]
  },
  {
   "cell_type": "code",
   "execution_count": 126,
   "id": "a07f7c81-494c-474e-b8ff-97fe4d3fd313",
   "metadata": {
    "execution": {
     "iopub.execute_input": "2023-01-19T00:59:22.173858Z",
     "iopub.status.busy": "2023-01-19T00:59:22.173515Z",
     "iopub.status.idle": "2023-01-19T00:59:22.188896Z",
     "shell.execute_reply": "2023-01-19T00:59:22.187815Z",
     "shell.execute_reply.started": "2023-01-19T00:59:22.173832Z"
    }
   },
   "outputs": [],
   "source": [
    "from sklearn.model_selection import train_test_split\n",
    "\n",
    "X_train, X_test, y_train, y_test = train_test_split(\n",
    "    data,  # Features\n",
    "    data.target.to_numpy(),  # Target variable\n",
    "    test_size=0.2,  # 20% test size\n",
    ")\n",
    "X_train = X_train.reset_index(drop=True)  # we reste the indexes\n",
    "X_test = X_test.reset_index(drop=True)"
   ]
  },
  {
   "cell_type": "markdown",
   "id": "5732cb3c-3238-48bb-891a-30803fcbd11b",
   "metadata": {},
   "source": [
    "## Tf-idf"
   ]
  },
  {
   "cell_type": "code",
   "execution_count": 127,
   "id": "8958e0f6-d707-4651-9ff6-fcda62398cde",
   "metadata": {
    "execution": {
     "iopub.execute_input": "2023-01-19T00:59:27.867800Z",
     "iopub.status.busy": "2023-01-19T00:59:27.867387Z",
     "iopub.status.idle": "2023-01-19T00:59:29.828927Z",
     "shell.execute_reply": "2023-01-19T00:59:29.827803Z",
     "shell.execute_reply.started": "2023-01-19T00:59:27.867732Z"
    }
   },
   "outputs": [
    {
     "data": {
      "text/plain": [
       "(3910, 8456)"
      ]
     },
     "execution_count": 127,
     "metadata": {},
     "output_type": "execute_result"
    }
   ],
   "source": [
    "# Map sequences to\n",
    "vec = TfidfVectorizer(analyzer=\"char\", ngram_range=(1, 3))\n",
    "X_train_tf = vec.fit_transform(X_train.seq)\n",
    "X_test_tf = vec.transform(X_test.seq)\n",
    "X_unseen = vec.transform(unseen.seq)\n",
    "X_train_tf.shape"
   ]
  },
  {
   "cell_type": "code",
   "execution_count": 128,
   "id": "e37fbf54-f93c-4c26-b9ca-47e6c1bab78d",
   "metadata": {
    "execution": {
     "iopub.execute_input": "2023-01-19T00:59:34.044997Z",
     "iopub.status.busy": "2023-01-19T00:59:34.044645Z",
     "iopub.status.idle": "2023-01-19T00:59:34.059434Z",
     "shell.execute_reply": "2023-01-19T00:59:34.057894Z",
     "shell.execute_reply.started": "2023-01-19T00:59:34.044974Z"
    }
   },
   "outputs": [],
   "source": [
    "# get the weight of each class\n",
    "(unique, counts) = np.unique(y_train, return_counts=True)\n",
    "class_weight = {uni: len(y_train) / count for uni, count in zip(unique, counts)}\n",
    "# class_weight"
   ]
  },
  {
   "cell_type": "markdown",
   "id": "fc8f6d8e-f722-467c-9d8b-cc1545b36d62",
   "metadata": {},
   "source": [
    "### Logistic regression"
   ]
  },
  {
   "cell_type": "code",
   "execution_count": 14,
   "id": "7fe66d7e-5bc2-4219-8bff-b24c30754e46",
   "metadata": {
    "execution": {
     "iopub.execute_input": "2023-01-18T22:23:57.189745Z",
     "iopub.status.busy": "2023-01-18T22:23:57.188155Z",
     "iopub.status.idle": "2023-01-18T22:24:05.461091Z",
     "shell.execute_reply": "2023-01-18T22:24:05.459805Z",
     "shell.execute_reply.started": "2023-01-18T22:23:57.189745Z"
    }
   },
   "outputs": [
    {
     "data": {
      "text/html": [
       "<style>#sk-container-id-1 {color: black;background-color: white;}#sk-container-id-1 pre{padding: 0;}#sk-container-id-1 div.sk-toggleable {background-color: white;}#sk-container-id-1 label.sk-toggleable__label {cursor: pointer;display: block;width: 100%;margin-bottom: 0;padding: 0.3em;box-sizing: border-box;text-align: center;}#sk-container-id-1 label.sk-toggleable__label-arrow:before {content: \"▸\";float: left;margin-right: 0.25em;color: #696969;}#sk-container-id-1 label.sk-toggleable__label-arrow:hover:before {color: black;}#sk-container-id-1 div.sk-estimator:hover label.sk-toggleable__label-arrow:before {color: black;}#sk-container-id-1 div.sk-toggleable__content {max-height: 0;max-width: 0;overflow: hidden;text-align: left;background-color: #f0f8ff;}#sk-container-id-1 div.sk-toggleable__content pre {margin: 0.2em;color: black;border-radius: 0.25em;background-color: #f0f8ff;}#sk-container-id-1 input.sk-toggleable__control:checked~div.sk-toggleable__content {max-height: 200px;max-width: 100%;overflow: auto;}#sk-container-id-1 input.sk-toggleable__control:checked~label.sk-toggleable__label-arrow:before {content: \"▾\";}#sk-container-id-1 div.sk-estimator input.sk-toggleable__control:checked~label.sk-toggleable__label {background-color: #d4ebff;}#sk-container-id-1 div.sk-label input.sk-toggleable__control:checked~label.sk-toggleable__label {background-color: #d4ebff;}#sk-container-id-1 input.sk-hidden--visually {border: 0;clip: rect(1px 1px 1px 1px);clip: rect(1px, 1px, 1px, 1px);height: 1px;margin: -1px;overflow: hidden;padding: 0;position: absolute;width: 1px;}#sk-container-id-1 div.sk-estimator {font-family: monospace;background-color: #f0f8ff;border: 1px dotted black;border-radius: 0.25em;box-sizing: border-box;margin-bottom: 0.5em;}#sk-container-id-1 div.sk-estimator:hover {background-color: #d4ebff;}#sk-container-id-1 div.sk-parallel-item::after {content: \"\";width: 100%;border-bottom: 1px solid gray;flex-grow: 1;}#sk-container-id-1 div.sk-label:hover label.sk-toggleable__label {background-color: #d4ebff;}#sk-container-id-1 div.sk-serial::before {content: \"\";position: absolute;border-left: 1px solid gray;box-sizing: border-box;top: 0;bottom: 0;left: 50%;z-index: 0;}#sk-container-id-1 div.sk-serial {display: flex;flex-direction: column;align-items: center;background-color: white;padding-right: 0.2em;padding-left: 0.2em;position: relative;}#sk-container-id-1 div.sk-item {position: relative;z-index: 1;}#sk-container-id-1 div.sk-parallel {display: flex;align-items: stretch;justify-content: center;background-color: white;position: relative;}#sk-container-id-1 div.sk-item::before, #sk-container-id-1 div.sk-parallel-item::before {content: \"\";position: absolute;border-left: 1px solid gray;box-sizing: border-box;top: 0;bottom: 0;left: 50%;z-index: -1;}#sk-container-id-1 div.sk-parallel-item {display: flex;flex-direction: column;z-index: 1;position: relative;background-color: white;}#sk-container-id-1 div.sk-parallel-item:first-child::after {align-self: flex-end;width: 50%;}#sk-container-id-1 div.sk-parallel-item:last-child::after {align-self: flex-start;width: 50%;}#sk-container-id-1 div.sk-parallel-item:only-child::after {width: 0;}#sk-container-id-1 div.sk-dashed-wrapped {border: 1px dashed gray;margin: 0 0.4em 0.5em 0.4em;box-sizing: border-box;padding-bottom: 0.4em;background-color: white;}#sk-container-id-1 div.sk-label label {font-family: monospace;font-weight: bold;display: inline-block;line-height: 1.2em;}#sk-container-id-1 div.sk-label-container {text-align: center;}#sk-container-id-1 div.sk-container {/* jupyter's `normalize.less` sets `[hidden] { display: none; }` but bootstrap.min.css set `[hidden] { display: none !important; }` so we also need the `!important` here to be able to override the default hidden behavior on the sphinx rendered scikit-learn.org. See: https://github.com/scikit-learn/scikit-learn/issues/21755 */display: inline-block !important;position: relative;}#sk-container-id-1 div.sk-text-repr-fallback {display: none;}</style><div id=\"sk-container-id-1\" class=\"sk-top-container\"><div class=\"sk-text-repr-fallback\"><pre>LogisticRegression(class_weight={0: 11.014084507042254, 1: 95.36585365853658,\n",
       "                                 2: 5.3125, 3: 73.77358490566037,\n",
       "                                 4: 41.59574468085106, 5: 7.7272727272727275,\n",
       "                                 6: 23.987730061349694, 7: 64.09836065573771,\n",
       "                                 8: 4.955640050697085, 9: 85.0,\n",
       "                                 10: 118.48484848484848, 11: 15.959183673469388,\n",
       "                                 12: 102.89473684210526, 13: 85.0,\n",
       "                                 14: 8.826185101580135, 15: 21.96629213483146,\n",
       "                                 16: 83.19148936170212,\n",
       "                                 17: 108.61111111111111},\n",
       "                   solver=&#x27;liblinear&#x27;)</pre><b>In a Jupyter environment, please rerun this cell to show the HTML representation or trust the notebook. <br />On GitHub, the HTML representation is unable to render, please try loading this page with nbviewer.org.</b></div><div class=\"sk-container\" hidden><div class=\"sk-item\"><div class=\"sk-estimator sk-toggleable\"><input class=\"sk-toggleable__control sk-hidden--visually\" id=\"sk-estimator-id-1\" type=\"checkbox\" checked><label for=\"sk-estimator-id-1\" class=\"sk-toggleable__label sk-toggleable__label-arrow\">LogisticRegression</label><div class=\"sk-toggleable__content\"><pre>LogisticRegression(class_weight={0: 11.014084507042254, 1: 95.36585365853658,\n",
       "                                 2: 5.3125, 3: 73.77358490566037,\n",
       "                                 4: 41.59574468085106, 5: 7.7272727272727275,\n",
       "                                 6: 23.987730061349694, 7: 64.09836065573771,\n",
       "                                 8: 4.955640050697085, 9: 85.0,\n",
       "                                 10: 118.48484848484848, 11: 15.959183673469388,\n",
       "                                 12: 102.89473684210526, 13: 85.0,\n",
       "                                 14: 8.826185101580135, 15: 21.96629213483146,\n",
       "                                 16: 83.19148936170212,\n",
       "                                 17: 108.61111111111111},\n",
       "                   solver=&#x27;liblinear&#x27;)</pre></div></div></div></div></div>"
      ],
      "text/plain": [
       "LogisticRegression(class_weight={0: 11.014084507042254, 1: 95.36585365853658,\n",
       "                                 2: 5.3125, 3: 73.77358490566037,\n",
       "                                 4: 41.59574468085106, 5: 7.7272727272727275,\n",
       "                                 6: 23.987730061349694, 7: 64.09836065573771,\n",
       "                                 8: 4.955640050697085, 9: 85.0,\n",
       "                                 10: 118.48484848484848, 11: 15.959183673469388,\n",
       "                                 12: 102.89473684210526, 13: 85.0,\n",
       "                                 14: 8.826185101580135, 15: 21.96629213483146,\n",
       "                                 16: 83.19148936170212,\n",
       "                                 17: 108.61111111111111},\n",
       "                   solver='liblinear')"
      ]
     },
     "execution_count": 14,
     "metadata": {},
     "output_type": "execute_result"
    }
   ],
   "source": [
    "# Setting up the model class\n",
    "lr_model_tf = LogisticRegression(class_weight=class_weight, solver=\"liblinear\")\n",
    "\n",
    "# Training the model\n",
    "lr_model_tf.fit(X_train_tf, y_train)"
   ]
  },
  {
   "cell_type": "code",
   "execution_count": 15,
   "id": "20033c4d-660e-4f29-90fa-c3e719b58fce",
   "metadata": {
    "execution": {
     "iopub.execute_input": "2023-01-18T22:24:05.463380Z",
     "iopub.status.busy": "2023-01-18T22:24:05.462994Z",
     "iopub.status.idle": "2023-01-18T22:24:05.507031Z",
     "shell.execute_reply": "2023-01-18T22:24:05.505530Z",
     "shell.execute_reply.started": "2023-01-18T22:24:05.463380Z"
    }
   },
   "outputs": [
    {
     "name": "stdout",
     "output_type": "stream",
     "text": [
      "              precision    recall  f1-score   support\n",
      "\n",
      "           0       0.78      0.73      0.75        85\n",
      "           1       1.00      0.22      0.36         9\n",
      "           2       0.53      0.67      0.59       203\n",
      "           3       0.71      0.71      0.71         7\n",
      "           4       0.90      0.50      0.64        18\n",
      "           5       0.49      0.72      0.58       119\n",
      "           6       0.83      0.62      0.71        39\n",
      "           7       0.50      0.08      0.13        13\n",
      "           8       0.73      0.75      0.74       209\n",
      "           9       0.25      0.09      0.13        11\n",
      "          10       1.00      0.30      0.46        10\n",
      "          11       0.47      0.47      0.47        60\n",
      "          12       0.50      0.17      0.25         6\n",
      "          13       0.86      0.46      0.60        13\n",
      "          14       0.58      0.55      0.57       105\n",
      "          15       0.60      0.25      0.35        48\n",
      "          16       1.00      0.08      0.14        13\n",
      "          17       1.00      0.40      0.57        10\n",
      "\n",
      "    accuracy                           0.61       978\n",
      "   macro avg       0.71      0.43      0.49       978\n",
      "weighted avg       0.63      0.61      0.60       978\n",
      "\n"
     ]
    }
   ],
   "source": [
    "## Calculate key performance metrics\n",
    "test_pred_lr_proba = lr_model_tf.predict_proba(X_test_tf)\n",
    "test_pred_lr = lr_model_tf.predict(X_test_tf)\n",
    "\n",
    "# Print a classification report\n",
    "print(\n",
    "    classification_report(y_test, test_pred_lr)\n",
    ")  # this threshold gives the best weighed average from the ROC curves"
   ]
  },
  {
   "cell_type": "code",
   "execution_count": 16,
   "id": "d78ce556-5bde-4765-b3c3-ebe05731bb6f",
   "metadata": {
    "execution": {
     "iopub.execute_input": "2023-01-18T22:24:05.509915Z",
     "iopub.status.busy": "2023-01-18T22:24:05.509074Z",
     "iopub.status.idle": "2023-01-18T22:24:05.521608Z",
     "shell.execute_reply": "2023-01-18T22:24:05.519859Z",
     "shell.execute_reply.started": "2023-01-18T22:24:05.509915Z"
    }
   },
   "outputs": [
    {
     "data": {
      "text/plain": [
       "array([ 0,  1,  2,  3,  4,  5,  6,  7,  8,  9, 10, 11, 12, 13, 14, 15, 16,\n",
       "       17])"
      ]
     },
     "execution_count": 16,
     "metadata": {},
     "output_type": "execute_result"
    }
   ],
   "source": [
    "lr_model_tf.classes_"
   ]
  },
  {
   "cell_type": "code",
   "execution_count": 17,
   "id": "b09f4f92-6f99-4c6e-a825-24bbaff1f24a",
   "metadata": {
    "execution": {
     "iopub.execute_input": "2023-01-18T22:24:06.844953Z",
     "iopub.status.busy": "2023-01-18T22:24:06.844314Z",
     "iopub.status.idle": "2023-01-18T22:24:06.861537Z",
     "shell.execute_reply": "2023-01-18T22:24:06.859779Z",
     "shell.execute_reply.started": "2023-01-18T22:24:06.844907Z"
    }
   },
   "outputs": [
    {
     "name": "stdout",
     "output_type": "stream",
     "text": [
      "loss = 1.7718605251022106 and accuracy accuracy = 60.74\n"
     ]
    }
   ],
   "source": [
    "weighted_mc_log_loss(y_test, test_pred_lr, test_pred_lr_proba)"
   ]
  },
  {
   "cell_type": "markdown",
   "id": "80f767d7-a17f-46f5-9c60-e7f03901aa99",
   "metadata": {},
   "source": [
    "### multinomial NB"
   ]
  },
  {
   "cell_type": "code",
   "execution_count": 19,
   "id": "c468baa4-dfd1-4d50-a4b8-82520d368e47",
   "metadata": {
    "execution": {
     "iopub.execute_input": "2023-01-18T22:25:04.777189Z",
     "iopub.status.busy": "2023-01-18T22:25:04.776702Z",
     "iopub.status.idle": "2023-01-18T22:25:04.858212Z",
     "shell.execute_reply": "2023-01-18T22:25:04.856956Z",
     "shell.execute_reply.started": "2023-01-18T22:25:04.777152Z"
    }
   },
   "outputs": [
    {
     "name": "stdout",
     "output_type": "stream",
     "text": [
      "              precision    recall  f1-score   support\n",
      "\n",
      "           0       1.00      0.12      0.21        85\n",
      "           1       0.00      0.00      0.00         9\n",
      "           2       0.29      0.94      0.44       203\n",
      "           3       0.00      0.00      0.00         7\n",
      "           4       0.00      0.00      0.00        18\n",
      "           5       0.81      0.11      0.19       119\n",
      "           6       0.00      0.00      0.00        39\n",
      "           7       0.00      0.00      0.00        13\n",
      "           8       0.53      0.73      0.61       209\n",
      "           9       0.00      0.00      0.00        11\n",
      "          10       0.00      0.00      0.00        10\n",
      "          11       0.00      0.00      0.00        60\n",
      "          12       0.00      0.00      0.00         6\n",
      "          13       0.00      0.00      0.00        13\n",
      "          14       1.00      0.01      0.02       105\n",
      "          15       0.00      0.00      0.00        48\n",
      "          16       0.00      0.00      0.00        13\n",
      "          17       0.00      0.00      0.00        10\n",
      "\n",
      "    accuracy                           0.37       978\n",
      "   macro avg       0.20      0.11      0.08       978\n",
      "weighted avg       0.47      0.37      0.27       978\n",
      "\n"
     ]
    },
    {
     "name": "stderr",
     "output_type": "stream",
     "text": [
      "/usr/local/lib/python3.9/dist-packages/sklearn/metrics/_classification.py:1327: UndefinedMetricWarning: Precision and F-score are ill-defined and being set to 0.0 in labels with no predicted samples. Use `zero_division` parameter to control this behavior.\n",
      "  _warn_prf(average, modifier, msg_start, len(result))\n",
      "/usr/local/lib/python3.9/dist-packages/sklearn/metrics/_classification.py:1327: UndefinedMetricWarning: Precision and F-score are ill-defined and being set to 0.0 in labels with no predicted samples. Use `zero_division` parameter to control this behavior.\n",
      "  _warn_prf(average, modifier, msg_start, len(result))\n",
      "/usr/local/lib/python3.9/dist-packages/sklearn/metrics/_classification.py:1327: UndefinedMetricWarning: Precision and F-score are ill-defined and being set to 0.0 in labels with no predicted samples. Use `zero_division` parameter to control this behavior.\n",
      "  _warn_prf(average, modifier, msg_start, len(result))\n"
     ]
    }
   ],
   "source": [
    "from sklearn.naive_bayes import MultinomialNB\n",
    "\n",
    "nb = MultinomialNB()\n",
    "nb.fit(X_train_tf, y_train)\n",
    "\n",
    "test_pred_nb_proba = nb.predict_proba(X_test_tf)\n",
    "test_pred_nb = nb.predict(X_test_tf)\n",
    "\n",
    "# Print a classification report\n",
    "print(\n",
    "    classification_report(y_test, test_pred_nb)\n",
    ")  # this threshold gives the best weighed average from the ROC curves"
   ]
  },
  {
   "cell_type": "code",
   "execution_count": 20,
   "id": "d082d2bc-31dd-4625-8b44-8a676feaf613",
   "metadata": {
    "execution": {
     "iopub.execute_input": "2023-01-18T22:25:05.847913Z",
     "iopub.status.busy": "2023-01-18T22:25:05.847551Z",
     "iopub.status.idle": "2023-01-18T22:25:05.860878Z",
     "shell.execute_reply": "2023-01-18T22:25:05.858450Z",
     "shell.execute_reply.started": "2023-01-18T22:25:05.847875Z"
    }
   },
   "outputs": [
    {
     "name": "stdout",
     "output_type": "stream",
     "text": [
      "loss = 2.81454542950609 and accuracy accuracy = 37.42\n"
     ]
    }
   ],
   "source": [
    "weighted_mc_log_loss(y_test, test_pred_nb, test_pred_nb_proba)"
   ]
  },
  {
   "cell_type": "markdown",
   "id": "6ece5fac-4507-48f8-885c-59ed100a8d3b",
   "metadata": {},
   "source": [
    "### SVC"
   ]
  },
  {
   "cell_type": "code",
   "execution_count": 132,
   "id": "f020d84f-185c-4460-ac1e-076ab1a97ace",
   "metadata": {
    "execution": {
     "iopub.execute_input": "2023-01-19T01:00:40.377171Z",
     "iopub.status.busy": "2023-01-19T01:00:40.376810Z",
     "iopub.status.idle": "2023-01-19T01:01:31.944122Z",
     "shell.execute_reply": "2023-01-19T01:01:31.943118Z",
     "shell.execute_reply.started": "2023-01-19T01:00:40.377144Z"
    }
   },
   "outputs": [
    {
     "data": {
      "text/html": [
       "<style>#sk-container-id-5 {color: black;background-color: white;}#sk-container-id-5 pre{padding: 0;}#sk-container-id-5 div.sk-toggleable {background-color: white;}#sk-container-id-5 label.sk-toggleable__label {cursor: pointer;display: block;width: 100%;margin-bottom: 0;padding: 0.3em;box-sizing: border-box;text-align: center;}#sk-container-id-5 label.sk-toggleable__label-arrow:before {content: \"▸\";float: left;margin-right: 0.25em;color: #696969;}#sk-container-id-5 label.sk-toggleable__label-arrow:hover:before {color: black;}#sk-container-id-5 div.sk-estimator:hover label.sk-toggleable__label-arrow:before {color: black;}#sk-container-id-5 div.sk-toggleable__content {max-height: 0;max-width: 0;overflow: hidden;text-align: left;background-color: #f0f8ff;}#sk-container-id-5 div.sk-toggleable__content pre {margin: 0.2em;color: black;border-radius: 0.25em;background-color: #f0f8ff;}#sk-container-id-5 input.sk-toggleable__control:checked~div.sk-toggleable__content {max-height: 200px;max-width: 100%;overflow: auto;}#sk-container-id-5 input.sk-toggleable__control:checked~label.sk-toggleable__label-arrow:before {content: \"▾\";}#sk-container-id-5 div.sk-estimator input.sk-toggleable__control:checked~label.sk-toggleable__label {background-color: #d4ebff;}#sk-container-id-5 div.sk-label input.sk-toggleable__control:checked~label.sk-toggleable__label {background-color: #d4ebff;}#sk-container-id-5 input.sk-hidden--visually {border: 0;clip: rect(1px 1px 1px 1px);clip: rect(1px, 1px, 1px, 1px);height: 1px;margin: -1px;overflow: hidden;padding: 0;position: absolute;width: 1px;}#sk-container-id-5 div.sk-estimator {font-family: monospace;background-color: #f0f8ff;border: 1px dotted black;border-radius: 0.25em;box-sizing: border-box;margin-bottom: 0.5em;}#sk-container-id-5 div.sk-estimator:hover {background-color: #d4ebff;}#sk-container-id-5 div.sk-parallel-item::after {content: \"\";width: 100%;border-bottom: 1px solid gray;flex-grow: 1;}#sk-container-id-5 div.sk-label:hover label.sk-toggleable__label {background-color: #d4ebff;}#sk-container-id-5 div.sk-serial::before {content: \"\";position: absolute;border-left: 1px solid gray;box-sizing: border-box;top: 0;bottom: 0;left: 50%;z-index: 0;}#sk-container-id-5 div.sk-serial {display: flex;flex-direction: column;align-items: center;background-color: white;padding-right: 0.2em;padding-left: 0.2em;position: relative;}#sk-container-id-5 div.sk-item {position: relative;z-index: 1;}#sk-container-id-5 div.sk-parallel {display: flex;align-items: stretch;justify-content: center;background-color: white;position: relative;}#sk-container-id-5 div.sk-item::before, #sk-container-id-5 div.sk-parallel-item::before {content: \"\";position: absolute;border-left: 1px solid gray;box-sizing: border-box;top: 0;bottom: 0;left: 50%;z-index: -1;}#sk-container-id-5 div.sk-parallel-item {display: flex;flex-direction: column;z-index: 1;position: relative;background-color: white;}#sk-container-id-5 div.sk-parallel-item:first-child::after {align-self: flex-end;width: 50%;}#sk-container-id-5 div.sk-parallel-item:last-child::after {align-self: flex-start;width: 50%;}#sk-container-id-5 div.sk-parallel-item:only-child::after {width: 0;}#sk-container-id-5 div.sk-dashed-wrapped {border: 1px dashed gray;margin: 0 0.4em 0.5em 0.4em;box-sizing: border-box;padding-bottom: 0.4em;background-color: white;}#sk-container-id-5 div.sk-label label {font-family: monospace;font-weight: bold;display: inline-block;line-height: 1.2em;}#sk-container-id-5 div.sk-label-container {text-align: center;}#sk-container-id-5 div.sk-container {/* jupyter's `normalize.less` sets `[hidden] { display: none; }` but bootstrap.min.css set `[hidden] { display: none !important; }` so we also need the `!important` here to be able to override the default hidden behavior on the sphinx rendered scikit-learn.org. See: https://github.com/scikit-learn/scikit-learn/issues/21755 */display: inline-block !important;position: relative;}#sk-container-id-5 div.sk-text-repr-fallback {display: none;}</style><div id=\"sk-container-id-5\" class=\"sk-top-container\"><div class=\"sk-text-repr-fallback\"><pre>CalibratedClassifierCV(base_estimator=LinearSVC(class_weight={0: 11.5,\n",
       "                                                              1: 95.36585365853658,\n",
       "                                                              2: 5.234270414993307,\n",
       "                                                              3: 81.45833333333333,\n",
       "                                                              4: 39.89795918367347,\n",
       "                                                              5: 7.696850393700787,\n",
       "                                                              6: 23.841463414634145,\n",
       "                                                              7: 64.09836065573771,\n",
       "                                                              8: 4.845105328376704,\n",
       "                                                              9: 95.36585365853658,\n",
       "                                                              10: 111.71428571428571,\n",
       "                                                              11: 16.70940170940171,\n",
       "                                                              12: 105.67567567567568,\n",
       "                                                              13: 88.86363636363636,\n",
       "                                                              14: 8.846153846153847,\n",
       "                                                              15: 21.483516483516482,\n",
       "                                                              16: 79.79591836734694,\n",
       "                                                              17: 122.1875}))</pre><b>In a Jupyter environment, please rerun this cell to show the HTML representation or trust the notebook. <br />On GitHub, the HTML representation is unable to render, please try loading this page with nbviewer.org.</b></div><div class=\"sk-container\" hidden><div class=\"sk-item sk-dashed-wrapped\"><div class=\"sk-label-container\"><div class=\"sk-label sk-toggleable\"><input class=\"sk-toggleable__control sk-hidden--visually\" id=\"sk-estimator-id-9\" type=\"checkbox\" ><label for=\"sk-estimator-id-9\" class=\"sk-toggleable__label sk-toggleable__label-arrow\">CalibratedClassifierCV</label><div class=\"sk-toggleable__content\"><pre>CalibratedClassifierCV(base_estimator=LinearSVC(class_weight={0: 11.5,\n",
       "                                                              1: 95.36585365853658,\n",
       "                                                              2: 5.234270414993307,\n",
       "                                                              3: 81.45833333333333,\n",
       "                                                              4: 39.89795918367347,\n",
       "                                                              5: 7.696850393700787,\n",
       "                                                              6: 23.841463414634145,\n",
       "                                                              7: 64.09836065573771,\n",
       "                                                              8: 4.845105328376704,\n",
       "                                                              9: 95.36585365853658,\n",
       "                                                              10: 111.71428571428571,\n",
       "                                                              11: 16.70940170940171,\n",
       "                                                              12: 105.67567567567568,\n",
       "                                                              13: 88.86363636363636,\n",
       "                                                              14: 8.846153846153847,\n",
       "                                                              15: 21.483516483516482,\n",
       "                                                              16: 79.79591836734694,\n",
       "                                                              17: 122.1875}))</pre></div></div></div><div class=\"sk-parallel\"><div class=\"sk-parallel-item\"><div class=\"sk-item\"><div class=\"sk-label-container\"><div class=\"sk-label sk-toggleable\"><input class=\"sk-toggleable__control sk-hidden--visually\" id=\"sk-estimator-id-10\" type=\"checkbox\" ><label for=\"sk-estimator-id-10\" class=\"sk-toggleable__label sk-toggleable__label-arrow\">base_estimator: LinearSVC</label><div class=\"sk-toggleable__content\"><pre>LinearSVC(class_weight={0: 11.5, 1: 95.36585365853658, 2: 5.234270414993307,\n",
       "                        3: 81.45833333333333, 4: 39.89795918367347,\n",
       "                        5: 7.696850393700787, 6: 23.841463414634145,\n",
       "                        7: 64.09836065573771, 8: 4.845105328376704,\n",
       "                        9: 95.36585365853658, 10: 111.71428571428571,\n",
       "                        11: 16.70940170940171, 12: 105.67567567567568,\n",
       "                        13: 88.86363636363636, 14: 8.846153846153847,\n",
       "                        15: 21.483516483516482, 16: 79.79591836734694,\n",
       "                        17: 122.1875})</pre></div></div></div><div class=\"sk-serial\"><div class=\"sk-item\"><div class=\"sk-estimator sk-toggleable\"><input class=\"sk-toggleable__control sk-hidden--visually\" id=\"sk-estimator-id-11\" type=\"checkbox\" ><label for=\"sk-estimator-id-11\" class=\"sk-toggleable__label sk-toggleable__label-arrow\">LinearSVC</label><div class=\"sk-toggleable__content\"><pre>LinearSVC(class_weight={0: 11.5, 1: 95.36585365853658, 2: 5.234270414993307,\n",
       "                        3: 81.45833333333333, 4: 39.89795918367347,\n",
       "                        5: 7.696850393700787, 6: 23.841463414634145,\n",
       "                        7: 64.09836065573771, 8: 4.845105328376704,\n",
       "                        9: 95.36585365853658, 10: 111.71428571428571,\n",
       "                        11: 16.70940170940171, 12: 105.67567567567568,\n",
       "                        13: 88.86363636363636, 14: 8.846153846153847,\n",
       "                        15: 21.483516483516482, 16: 79.79591836734694,\n",
       "                        17: 122.1875})</pre></div></div></div></div></div></div></div></div></div></div>"
      ],
      "text/plain": [
       "CalibratedClassifierCV(base_estimator=LinearSVC(class_weight={0: 11.5,\n",
       "                                                              1: 95.36585365853658,\n",
       "                                                              2: 5.234270414993307,\n",
       "                                                              3: 81.45833333333333,\n",
       "                                                              4: 39.89795918367347,\n",
       "                                                              5: 7.696850393700787,\n",
       "                                                              6: 23.841463414634145,\n",
       "                                                              7: 64.09836065573771,\n",
       "                                                              8: 4.845105328376704,\n",
       "                                                              9: 95.36585365853658,\n",
       "                                                              10: 111.71428571428571,\n",
       "                                                              11: 16.70940170940171,\n",
       "                                                              12: 105.67567567567568,\n",
       "                                                              13: 88.86363636363636,\n",
       "                                                              14: 8.846153846153847,\n",
       "                                                              15: 21.483516483516482,\n",
       "                                                              16: 79.79591836734694,\n",
       "                                                              17: 122.1875}))"
      ]
     },
     "execution_count": 132,
     "metadata": {},
     "output_type": "execute_result"
    }
   ],
   "source": [
    "from sklearn.svm import LinearSVC\n",
    "from sklearn.calibration import CalibratedClassifierCV\n",
    "\n",
    "svc_init = LinearSVC(class_weight=class_weight)\n",
    "svc = CalibratedClassifierCV(svc_init)\n",
    "svc.fit(X_train_tf, y_train)"
   ]
  },
  {
   "cell_type": "code",
   "execution_count": 133,
   "id": "9e266f96-bc16-43e8-89f3-53835097c8be",
   "metadata": {
    "execution": {
     "iopub.execute_input": "2023-01-19T01:01:34.157512Z",
     "iopub.status.busy": "2023-01-19T01:01:34.157102Z",
     "iopub.status.idle": "2023-01-19T01:01:34.263082Z",
     "shell.execute_reply": "2023-01-19T01:01:34.261411Z",
     "shell.execute_reply.started": "2023-01-19T01:01:34.157484Z"
    }
   },
   "outputs": [
    {
     "name": "stdout",
     "output_type": "stream",
     "text": [
      "              precision    recall  f1-score   support\n",
      "\n",
      "           0       0.78      0.70      0.74       100\n",
      "           1       1.00      0.22      0.36         9\n",
      "           2       0.57      0.77      0.65       192\n",
      "           3       1.00      0.42      0.59        12\n",
      "           4       1.00      0.50      0.67        14\n",
      "           5       0.51      0.68      0.58       117\n",
      "           6       0.79      0.58      0.67        38\n",
      "           7       1.00      0.08      0.14        13\n",
      "           8       0.62      0.73      0.67       191\n",
      "           9       1.00      0.25      0.40        16\n",
      "          10       1.00      0.25      0.40         8\n",
      "          11       0.78      0.61      0.68        71\n",
      "          12       1.00      0.29      0.44         7\n",
      "          13       1.00      0.53      0.70        15\n",
      "          14       0.57      0.58      0.58       106\n",
      "          15       0.77      0.23      0.35        44\n",
      "          16       1.00      0.36      0.53        11\n",
      "          17       1.00      0.36      0.53        14\n",
      "\n",
      "    accuracy                           0.63       978\n",
      "   macro avg       0.85      0.45      0.54       978\n",
      "weighted avg       0.68      0.63      0.62       978\n",
      "\n"
     ]
    }
   ],
   "source": [
    "test_pred_svc_proba = svc.predict_proba(X_test_tf)\n",
    "test_pred_svc = svc.predict(X_test_tf)\n",
    "\n",
    "# Print a classification report\n",
    "print(\n",
    "    classification_report(y_test, test_pred_svc)\n",
    ")  # this threshold gives the best weighed average from the ROC curves"
   ]
  },
  {
   "cell_type": "code",
   "execution_count": 134,
   "id": "7b369c80-1378-4318-bafb-09945e043068",
   "metadata": {
    "execution": {
     "iopub.execute_input": "2023-01-19T01:01:36.710719Z",
     "iopub.status.busy": "2023-01-19T01:01:36.710336Z",
     "iopub.status.idle": "2023-01-19T01:01:36.721977Z",
     "shell.execute_reply": "2023-01-19T01:01:36.720358Z",
     "shell.execute_reply.started": "2023-01-19T01:01:36.710695Z"
    }
   },
   "outputs": [
    {
     "name": "stdout",
     "output_type": "stream",
     "text": [
      "loss = 1.3571869320423866 and accuracy accuracy = 62.78\n"
     ]
    }
   ],
   "source": [
    "weighted_mc_log_loss(y_test, test_pred_svc, test_pred_svc_proba)"
   ]
  },
  {
   "cell_type": "code",
   "execution_count": 28,
   "id": "c700be2a-a298-4901-bc1e-796dab0101ea",
   "metadata": {
    "execution": {
     "iopub.execute_input": "2023-01-18T22:33:42.928221Z",
     "iopub.status.busy": "2023-01-18T22:33:42.927511Z",
     "iopub.status.idle": "2023-01-18T22:33:46.378431Z",
     "shell.execute_reply": "2023-01-18T22:33:46.377090Z",
     "shell.execute_reply.started": "2023-01-18T22:33:42.928169Z"
    }
   },
   "outputs": [],
   "source": [
    "submit(svc.predict_proba(X_unseen))"
   ]
  },
  {
   "cell_type": "markdown",
   "id": "e462caf9-d34c-4b29-98ff-751a9277324d",
   "metadata": {},
   "source": [
    "## Fasttext"
   ]
  },
  {
   "cell_type": "code",
   "execution_count": 89,
   "id": "988d3c54-0299-4781-9567-0043f290e930",
   "metadata": {
    "execution": {
     "iopub.execute_input": "2023-01-18T20:59:21.353167Z",
     "iopub.status.busy": "2023-01-18T20:59:21.352811Z",
     "iopub.status.idle": "2023-01-18T20:59:21.360138Z",
     "shell.execute_reply": "2023-01-18T20:59:21.358455Z",
     "shell.execute_reply.started": "2023-01-18T20:59:21.353138Z"
    }
   },
   "outputs": [],
   "source": [
    "# !wget https://github.com/facebookresearch/fastText/archive/v0.9.2.zip\n",
    "# !unzip v0.9.2.zip\n",
    "\n",
    "\n",
    "# # # # if zip is already downloaded\n",
    "# %cd fastText-0.9.2\n",
    "# # for command line tool :\n",
    "# !make\n",
    "# # for python bindings :\n",
    "# !pip install .\n",
    "\n",
    "# %cd ..\n",
    "# clear_output()"
   ]
  },
  {
   "cell_type": "code",
   "execution_count": 29,
   "id": "86388a18-3adb-410a-9eb1-69367655c322",
   "metadata": {
    "execution": {
     "iopub.execute_input": "2023-01-18T22:35:53.571894Z",
     "iopub.status.busy": "2023-01-18T22:35:53.571415Z",
     "iopub.status.idle": "2023-01-18T22:35:53.644346Z",
     "shell.execute_reply": "2023-01-18T22:35:53.642886Z",
     "shell.execute_reply.started": "2023-01-18T22:35:53.571847Z"
    }
   },
   "outputs": [],
   "source": [
    "import fasttext\n",
    "import csv\n",
    "\n",
    "\n",
    "# inverseEncodingFastext is mainly to inverse the encoding of the prediction from __label_X to X\n",
    "def inverseEncodingFastext(text):\n",
    "    return int(re.sub(\"__label__\", \"\", str(text)))  # replace __label__ by nothing\n",
    "\n",
    "\n",
    "inverseEncodingFastext_vet = np.vectorize(inverseEncodingFastext)"
   ]
  },
  {
   "cell_type": "code",
   "execution_count": 30,
   "id": "dfb9a208-d3da-4531-9b8e-212b875a7d0f",
   "metadata": {
    "execution": {
     "iopub.execute_input": "2023-01-18T22:35:54.702888Z",
     "iopub.status.busy": "2023-01-18T22:35:54.702186Z",
     "iopub.status.idle": "2023-01-18T22:35:54.843797Z",
     "shell.execute_reply": "2023-01-18T22:35:54.838912Z",
     "shell.execute_reply.started": "2023-01-18T22:35:54.702835Z"
    }
   },
   "outputs": [
    {
     "name": "stdout",
     "output_type": "stream",
     "text": [
      "Counter({0: 789, 8: 789, 17: 789, 14: 789, 2: 789, 4: 789, 5: 789, 11: 789, 3: 789, 10: 789, 6: 789, 15: 789, 13: 789, 1: 789, 12: 789, 16: 789, 7: 789, 9: 789})\n"
     ]
    }
   ],
   "source": [
    "from imblearn.over_sampling import RandomOverSampler\n",
    "from collections import Counter\n",
    "\n",
    "oversample = RandomOverSampler(sampling_strategy={k: max(counts) for k in unique})\n",
    "X_over, y_over = oversample.fit_resample(X_train, y_train)\n",
    "print(Counter(y_over))"
   ]
  },
  {
   "cell_type": "code",
   "execution_count": 31,
   "id": "eda2476a-7ff3-4cd4-87a8-9f8c6afb0426",
   "metadata": {
    "execution": {
     "iopub.execute_input": "2023-01-18T22:35:55.972841Z",
     "iopub.status.busy": "2023-01-18T22:35:55.972193Z",
     "iopub.status.idle": "2023-01-18T22:35:56.021739Z",
     "shell.execute_reply": "2023-01-18T22:35:56.019835Z",
     "shell.execute_reply.started": "2023-01-18T22:35:55.972822Z"
    }
   },
   "outputs": [],
   "source": [
    "# define and store fasttext initial data as the library requires\n",
    "def labelFastText(dataframe, target, outputName, predictor=\"seq\"):\n",
    "    df = dataframe.copy()\n",
    "    df[\"target\"] = target.copy()\n",
    "    df[\"fastText\"] = df[\"target\"].progress_apply(lambda x: \"__label__\" + str(x))\n",
    "    df = df.dropna(subset=[predictor, \"target\"])\n",
    "    df = df.reset_index(drop=True)  # reset index\n",
    "    df[predictor] = df[predictor].progress_apply(lambda x: \" \".join(list(x)))\n",
    "    df[[\"fastText\", predictor]].to_csv(\n",
    "        (outputName + \".txt\"),\n",
    "        index=False,\n",
    "        sep=\" \",\n",
    "        header=None,\n",
    "        quoting=csv.QUOTE_NONE,\n",
    "        quotechar=\"\",\n",
    "        escapechar=\" \",\n",
    "    )\n",
    "    return df"
   ]
  },
  {
   "cell_type": "code",
   "execution_count": 32,
   "id": "e43f6bfc-796e-49e1-a50e-328c1cc28f4a",
   "metadata": {
    "execution": {
     "iopub.execute_input": "2023-01-18T22:36:00.458467Z",
     "iopub.status.busy": "2023-01-18T22:36:00.457699Z",
     "iopub.status.idle": "2023-01-18T22:36:02.026373Z",
     "shell.execute_reply": "2023-01-18T22:36:02.024794Z",
     "shell.execute_reply.started": "2023-01-18T22:36:00.458467Z"
    }
   },
   "outputs": [
    {
     "data": {
      "application/vnd.jupyter.widget-view+json": {
       "model_id": "6a51595855804959b002f2a3c25a6912",
       "version_major": 2,
       "version_minor": 0
      },
      "text/plain": [
       "  0%|          | 0/14202 [00:00<?, ?it/s]"
      ]
     },
     "metadata": {},
     "output_type": "display_data"
    },
    {
     "data": {
      "application/vnd.jupyter.widget-view+json": {
       "model_id": "0abb4198b25b4130b2af9e8682c27ea5",
       "version_major": 2,
       "version_minor": 0
      },
      "text/plain": [
       "  0%|          | 0/14202 [00:00<?, ?it/s]"
      ]
     },
     "metadata": {},
     "output_type": "display_data"
    },
    {
     "data": {
      "application/vnd.jupyter.widget-view+json": {
       "model_id": "4aa29eeb3c6a49659cc4899e1d5619bd",
       "version_major": 2,
       "version_minor": 0
      },
      "text/plain": [
       "  0%|          | 0/978 [00:00<?, ?it/s]"
      ]
     },
     "metadata": {},
     "output_type": "display_data"
    },
    {
     "data": {
      "application/vnd.jupyter.widget-view+json": {
       "model_id": "30a712a4ec944bb7a4299f6f569f41d6",
       "version_major": 2,
       "version_minor": 0
      },
      "text/plain": [
       "  0%|          | 0/978 [00:00<?, ?it/s]"
      ]
     },
     "metadata": {},
     "output_type": "display_data"
    }
   ],
   "source": [
    "train = labelFastText(X_over, y_over, \"train\")\n",
    "test = labelFastText(X_test, y_test, \"test\")"
   ]
  },
  {
   "cell_type": "code",
   "execution_count": 33,
   "id": "80cfa564-0fca-42b4-b233-c2b1b927184a",
   "metadata": {
    "execution": {
     "iopub.execute_input": "2023-01-18T22:36:02.418601Z",
     "iopub.status.busy": "2023-01-18T22:36:02.418234Z",
     "iopub.status.idle": "2023-01-18T22:38:23.158267Z",
     "shell.execute_reply": "2023-01-18T22:38:23.156427Z",
     "shell.execute_reply.started": "2023-01-18T22:36:02.418573Z"
    }
   },
   "outputs": [
    {
     "name": "stderr",
     "output_type": "stream",
     "text": [
      "Read 3M words\n",
      "Number of words:  22\n",
      "Number of labels: 18\n",
      "Progress: 100.0% words/sec/thread:  192030 lr:  0.000000 avg.loss:  1.213633 ETA:   0h 0m 0s  0.3% words/sec/thread:  233947 lr:  0.099737 avg.loss:  2.906124 ETA:   0h 1m54s  7.7% words/sec/thread:  200128 lr:  0.092259 avg.loss:  2.765759 ETA:   0h 2m 3s\n"
     ]
    }
   ],
   "source": [
    "# we train our model\n",
    "model_fasttext = fasttext.train_supervised(\n",
    "    \"train.txt\",\n",
    "    wordNgrams=6,  # n word grams are two\n",
    "    # minn=1,\n",
    "    # maxn=5,  # subwords max of  3 characters\n",
    "    dim=100,  # dimension of embeeding vector or the hidden layer\n",
    "    epoch=50,\n",
    "    loss=\"softmax\",  #\n",
    ")"
   ]
  },
  {
   "cell_type": "code",
   "execution_count": 95,
   "id": "55ac5fc0-4da0-495b-b63e-ff692b2365a7",
   "metadata": {
    "execution": {
     "iopub.execute_input": "2023-01-18T21:21:35.114044Z",
     "iopub.status.busy": "2023-01-18T21:21:35.113459Z",
     "iopub.status.idle": "2023-01-18T21:21:44.791969Z",
     "shell.execute_reply": "2023-01-18T21:21:44.789335Z",
     "shell.execute_reply.started": "2023-01-18T21:21:35.113966Z"
    }
   },
   "outputs": [],
   "source": [
    "# model_fasttext.save_model(\"model_fastext.bin\")  # saving model\n",
    "# model_fasttext=fasttext.load_model('model_fastext.bin') # loading model"
   ]
  },
  {
   "cell_type": "code",
   "execution_count": 35,
   "id": "d437575f-6c67-4a69-8649-ada63af6561e",
   "metadata": {
    "execution": {
     "iopub.execute_input": "2023-01-18T22:50:47.832332Z",
     "iopub.status.busy": "2023-01-18T22:50:47.831688Z",
     "iopub.status.idle": "2023-01-18T22:50:48.443502Z",
     "shell.execute_reply": "2023-01-18T22:50:48.441893Z",
     "shell.execute_reply.started": "2023-01-18T22:50:47.832332Z"
    }
   },
   "outputs": [
    {
     "name": "stdout",
     "output_type": "stream",
     "text": [
      "testing results for nature de prob are :(978, 0.5102249488752556, 0.5102249488752556)\n"
     ]
    }
   ],
   "source": [
    "results = model_fasttext.test(\"test.txt\")\n",
    "print(f\"testing results for nature de prob are :{results}\")"
   ]
  },
  {
   "cell_type": "code",
   "execution_count": 36,
   "id": "95ef27e8-4dfa-448f-8d10-6818d9a506c2",
   "metadata": {
    "execution": {
     "iopub.execute_input": "2023-01-18T22:50:48.516351Z",
     "iopub.status.busy": "2023-01-18T22:50:48.515542Z",
     "iopub.status.idle": "2023-01-18T22:50:48.548438Z",
     "shell.execute_reply": "2023-01-18T22:50:48.545977Z",
     "shell.execute_reply.started": "2023-01-18T22:50:48.516351Z"
    }
   },
   "outputs": [],
   "source": [
    "def predict_fasttext(text, model):\n",
    "    prediction = model.predict(str(text))  # get the prediction of the model\n",
    "    # return inverseEncodingFastext(prediction[0][0]) # getting prediction directly with 0.5 threshold\n",
    "    return inverseEncodingFastext(prediction[0][0])\n",
    "\n",
    "\n",
    "def predict_fasttext_proba(text, model):\n",
    "    prediction = model.predict(str(text), k=18)  # get the prediction of the model\n",
    "    prediction[1][0] = 0.999\n",
    "    arr = np.asarray(prediction[0])\n",
    "    ind = inverseEncodingFastext_vet(arr)\n",
    "    ind = ind.argsort()\n",
    "\n",
    "    return prediction[1][ind]"
   ]
  },
  {
   "cell_type": "code",
   "execution_count": 37,
   "id": "31af1e48-ff6c-4949-bfc4-95b3e2625d15",
   "metadata": {
    "execution": {
     "iopub.execute_input": "2023-01-18T22:50:49.720634Z",
     "iopub.status.busy": "2023-01-18T22:50:49.720095Z",
     "iopub.status.idle": "2023-01-18T22:50:49.739408Z",
     "shell.execute_reply": "2023-01-18T22:50:49.736766Z",
     "shell.execute_reply.started": "2023-01-18T22:50:49.720598Z"
    }
   },
   "outputs": [
    {
     "data": {
      "text/plain": [
       "array([9.9364e-01, 6.3760e-03, 1.0000e-05, 1.0000e-05, 1.0000e-05,\n",
       "       1.0000e-05, 1.0000e-05, 1.0000e-05, 1.0000e-05, 1.0000e-05,\n",
       "       1.0000e-05, 1.0000e-05, 1.0000e-05, 1.0000e-05, 1.0000e-05,\n",
       "       1.0000e-05, 1.0000e-05, 1.0000e-05])"
      ]
     },
     "execution_count": 37,
     "metadata": {},
     "output_type": "execute_result"
    }
   ],
   "source": [
    "pred = model_fasttext.predict(X_test.seq[2], k=18)\n",
    "pred[1]"
   ]
  },
  {
   "cell_type": "code",
   "execution_count": 45,
   "id": "15758b78-fc9b-4762-bbf4-fa0c2e4d1c02",
   "metadata": {
    "execution": {
     "iopub.execute_input": "2023-01-18T22:51:31.867952Z",
     "iopub.status.busy": "2023-01-18T22:51:31.867287Z",
     "iopub.status.idle": "2023-01-18T22:51:33.213229Z",
     "shell.execute_reply": "2023-01-18T22:51:33.211527Z",
     "shell.execute_reply.started": "2023-01-18T22:51:31.867905Z"
    }
   },
   "outputs": [
    {
     "data": {
      "application/vnd.jupyter.widget-view+json": {
       "model_id": "0f928016ed4f4606b2055104998601f1",
       "version_major": 2,
       "version_minor": 0
      },
      "text/plain": [
       "  0%|          | 0/978 [00:00<?, ?it/s]"
      ]
     },
     "metadata": {},
     "output_type": "display_data"
    },
    {
     "data": {
      "application/vnd.jupyter.widget-view+json": {
       "model_id": "02e20692987d468bb85e912c8efda0f4",
       "version_major": 2,
       "version_minor": 0
      },
      "text/plain": [
       "  0%|          | 0/978 [00:00<?, ?it/s]"
      ]
     },
     "metadata": {},
     "output_type": "display_data"
    }
   ],
   "source": [
    "test_pred_fasttext = test.seq.progress_apply(\n",
    "    lambda sent: predict_fasttext(sent, model_fasttext)\n",
    ").to_numpy()\n",
    "test_pred_fasttext_proba = np.stack(\n",
    "    test.seq.progress_apply(lambda sent: predict_fasttext_proba(sent, model_fasttext))\n",
    ")"
   ]
  },
  {
   "cell_type": "code",
   "execution_count": 46,
   "id": "43b640fd-136c-46ce-8e2e-11bd08fcee47",
   "metadata": {
    "execution": {
     "iopub.execute_input": "2023-01-18T22:51:33.218149Z",
     "iopub.status.busy": "2023-01-18T22:51:33.217837Z",
     "iopub.status.idle": "2023-01-18T22:51:33.231805Z",
     "shell.execute_reply": "2023-01-18T22:51:33.229810Z",
     "shell.execute_reply.started": "2023-01-18T22:51:33.218116Z"
    }
   },
   "outputs": [
    {
     "data": {
      "text/plain": [
       "{0, 1, 2, 3, 4, 5, 6, 7, 8, 10, 11, 12, 13, 14, 15, 16, 17}"
      ]
     },
     "execution_count": 46,
     "metadata": {},
     "output_type": "execute_result"
    }
   ],
   "source": [
    "set(list(test_pred_fasttext))"
   ]
  },
  {
   "cell_type": "code",
   "execution_count": 47,
   "id": "ccb59842-8e1c-4966-a6e4-da494eca7224",
   "metadata": {
    "execution": {
     "iopub.execute_input": "2023-01-18T22:51:33.238116Z",
     "iopub.status.busy": "2023-01-18T22:51:33.237755Z",
     "iopub.status.idle": "2023-01-18T22:51:33.260194Z",
     "shell.execute_reply": "2023-01-18T22:51:33.259114Z",
     "shell.execute_reply.started": "2023-01-18T22:51:33.238082Z"
    }
   },
   "outputs": [
    {
     "name": "stdout",
     "output_type": "stream",
     "text": [
      "              precision    recall  f1-score   support\n",
      "\n",
      "           0       0.63      0.64      0.63        85\n",
      "           1       0.33      0.22      0.27         9\n",
      "           2       0.55      0.44      0.49       203\n",
      "           3       0.43      0.43      0.43         7\n",
      "           4       0.75      0.50      0.60        18\n",
      "           5       0.48      0.61      0.54       119\n",
      "           6       0.49      0.64      0.56        39\n",
      "           7       0.13      0.15      0.14        13\n",
      "           8       0.69      0.61      0.64       209\n",
      "           9       0.00      0.00      0.00        11\n",
      "          10       0.75      0.30      0.43        10\n",
      "          11       0.43      0.48      0.46        60\n",
      "          12       0.50      0.17      0.25         6\n",
      "          13       0.88      0.54      0.67        13\n",
      "          14       0.41      0.55      0.47       105\n",
      "          15       0.18      0.25      0.21        48\n",
      "          16       0.11      0.08      0.09        13\n",
      "          17       1.00      0.40      0.57        10\n",
      "\n",
      "    accuracy                           0.51       978\n",
      "   macro avg       0.49      0.39      0.41       978\n",
      "weighted avg       0.53      0.51      0.51       978\n",
      "\n"
     ]
    },
    {
     "name": "stderr",
     "output_type": "stream",
     "text": [
      "/usr/local/lib/python3.9/dist-packages/sklearn/metrics/_classification.py:1327: UndefinedMetricWarning: Precision and F-score are ill-defined and being set to 0.0 in labels with no predicted samples. Use `zero_division` parameter to control this behavior.\n",
      "  _warn_prf(average, modifier, msg_start, len(result))\n",
      "/usr/local/lib/python3.9/dist-packages/sklearn/metrics/_classification.py:1327: UndefinedMetricWarning: Precision and F-score are ill-defined and being set to 0.0 in labels with no predicted samples. Use `zero_division` parameter to control this behavior.\n",
      "  _warn_prf(average, modifier, msg_start, len(result))\n",
      "/usr/local/lib/python3.9/dist-packages/sklearn/metrics/_classification.py:1327: UndefinedMetricWarning: Precision and F-score are ill-defined and being set to 0.0 in labels with no predicted samples. Use `zero_division` parameter to control this behavior.\n",
      "  _warn_prf(average, modifier, msg_start, len(result))\n"
     ]
    }
   ],
   "source": [
    "print(\n",
    "    classification_report(y_test, test_pred_fasttext)\n",
    ")  # this threshold gives the best weighed average from the ROC curves"
   ]
  },
  {
   "cell_type": "code",
   "execution_count": 48,
   "id": "a4f1b0a8-122d-43eb-96a3-ce6f958a1590",
   "metadata": {
    "execution": {
     "iopub.execute_input": "2023-01-18T22:51:34.365791Z",
     "iopub.status.busy": "2023-01-18T22:51:34.365270Z",
     "iopub.status.idle": "2023-01-18T22:51:34.381127Z",
     "shell.execute_reply": "2023-01-18T22:51:34.379127Z",
     "shell.execute_reply.started": "2023-01-18T22:51:34.365748Z"
    }
   },
   "outputs": [
    {
     "name": "stdout",
     "output_type": "stream",
     "text": [
      "loss = 1.7077549265761964 and accuracy accuracy = 51.02\n"
     ]
    }
   ],
   "source": [
    "weighted_mc_log_loss(\n",
    "    y_test,\n",
    "    test_pred_fasttext,\n",
    "    test_pred_fasttext_proba,\n",
    ")"
   ]
  },
  {
   "cell_type": "markdown",
   "id": "5e4a2445-e207-49e8-a0c2-faa39fb961a4",
   "metadata": {
    "tags": []
   },
   "source": [
    "#### fatstext embeeding plus some other models"
   ]
  },
  {
   "cell_type": "code",
   "execution_count": 49,
   "id": "6b22f69e-d93f-40d0-a5c6-c0e0f285f023",
   "metadata": {
    "execution": {
     "iopub.execute_input": "2023-01-18T22:51:38.561616Z",
     "iopub.status.busy": "2023-01-18T22:51:38.561301Z",
     "iopub.status.idle": "2023-01-18T22:51:42.384738Z",
     "shell.execute_reply": "2023-01-18T22:51:42.382912Z",
     "shell.execute_reply.started": "2023-01-18T22:51:38.561616Z"
    }
   },
   "outputs": [
    {
     "name": "stderr",
     "output_type": "stream",
     "text": [
      "Warning : `load_model` does not return WordVectorModel or SupervisedModel any more, but a `FastText` object which is very similar.\n"
     ]
    }
   ],
   "source": [
    "import fasttext\n",
    "from sklearn.decomposition import PCA\n",
    "\n",
    "from collections import Counter\n",
    "from imblearn.over_sampling import SMOTE, ADASYN\n",
    "\n",
    "fasttextModel = fasttext.load_model(\"model_fastext.bin\")  # 17000 item /sec\n",
    "\n",
    "\n",
    "def filterXY(X, y, indexes):\n",
    "    X = X[indexes]\n",
    "    y = y[indexes]\n",
    "    return X, y\n",
    "\n",
    "\n",
    "class Classification:\n",
    "    \"\"\"Home made classification with and pycaret\"\"\"\n",
    "\n",
    "    def __init__(self, X, y, vecW=\"fasttext\"):\n",
    "        self.X_ = X\n",
    "        self.y_ = y\n",
    "        self.vecW_ = vecW\n",
    "        self.classesCountStart_ = Counter(self.y_)\n",
    "\n",
    "        print(\"- \" * 40)\n",
    "        print(f\"Classes are {self.classesCountStart_}\")\n",
    "        print(\"- \" * 40)\n",
    "\n",
    "    def sent2vec_(self, text):\n",
    "        if self.vecW_ == \"fasttext\":\n",
    "            return fasttextModel.get_sentence_vector(text)\n",
    "\n",
    "    def fit(self, verbose=False):\n",
    "        self.Xtok_, self.ytok_ = filterXY(\n",
    "            self.X_, self.y_, self.X_.notna()\n",
    "        )  # filter from nan values\n",
    "        print(\"- \" * 40)\n",
    "        print(\"starting sent2vec ...\")\n",
    "        self.Xtok_ = self.X_.progress_apply(self.sent2vec_)\n",
    "        print(\" sent2vec done :)\")\n",
    "        print(\"- \" * 40)\n",
    "        if verbose:\n",
    "            return self.Xtok_\n",
    "\n",
    "    def transform(self, verbose=False):\n",
    "        print(\"transformation from 1D to nD is done\")\n",
    "        self.Xtransformed_, self.Ytransformed_ = filterXY(\n",
    "            self.Xtok_, self.ytok_, self.Xtok_.notna()\n",
    "        )\n",
    "        self.Xtransformed_ = np.stack(self.Xtransformed_)\n",
    "        print(\"- \" * 40)\n",
    "        if verbose:\n",
    "            return self.Xtransformed_\n",
    "\n",
    "    def fitPca(self, n_components=100, verbose=True, pca=None):\n",
    "        if not pca:\n",
    "            self.pca_ = PCA(n_components=n_components)\n",
    "            self.pca_.fit(self.Xtransformed_)\n",
    "        else:\n",
    "            print(\"old pca taken into consideration\")\n",
    "            self.pca_ = pca\n",
    "        if verbose:\n",
    "            print(\"the total ratio of explained variance is :\")\n",
    "            print(np.sum(self.pca_.explained_variance_ratio_))\n",
    "            print(\"the cummulative sum of explained variance is :\")\n",
    "            print(np.cumsum(self.pca_.explained_variance_ratio_))\n",
    "        print(\"- \" * 40)\n",
    "        return self.pca_\n",
    "\n",
    "    def balance(self, algo=\"adasyn\"):\n",
    "        print(\"Banalancing data is starting  ...\")\n",
    "        if algo == \"adasyn\":\n",
    "            self.Xtransformed_, self.Ytransformed_ = ADASYN(\n",
    "                n_jobs=-1, sampling_strategy={k: max(counts) for k in unique}\n",
    "            ).fit_resample(self.Xtransformed_, self.Ytransformed_)\n",
    "\n",
    "        elif algo == \"smote\":\n",
    "            self.Xtransformed_, self.Ytransformed_ = SMOTE(n_jobs=-1).fit_resample(\n",
    "                self.Xtransformed_, self.Ytransformed_\n",
    "            )\n",
    "\n",
    "        print(\"Banalancing data with \" + algo + \"is Done :)\")\n",
    "\n",
    "    def todataFrame(self, withPca=False):\n",
    "        # raise DeprecationWarning('to use pca you should call the function .fitPca, then assign True to withPca args')\n",
    "        self.df_ = self.Xtransformed_\n",
    "        if withPca and self.pca_:\n",
    "            self.df_ = self.pca_.transform(self.df_)\n",
    "        self.df_ = pd.DataFrame(self.df_)\n",
    "        self.df_[\"label_orig\"] = self.Ytransformed_\n",
    "        print(\"- \" * 40)\n",
    "        print(f\"shape of dataframe is {self.df_.shape}\")\n",
    "        self.classesCountEnd_ = Counter(self.df_[\"label_orig\"])\n",
    "        print(f\"Classes in the end are {self.classesCountEnd_}\")\n",
    "        return self.df_"
   ]
  },
  {
   "cell_type": "code",
   "execution_count": 50,
   "id": "65619b08-21bb-49f2-9b90-69bca144238b",
   "metadata": {
    "execution": {
     "iopub.execute_input": "2023-01-18T22:51:42.387477Z",
     "iopub.status.busy": "2023-01-18T22:51:42.387073Z",
     "iopub.status.idle": "2023-01-18T22:51:42.655342Z",
     "shell.execute_reply": "2023-01-18T22:51:42.653823Z",
     "shell.execute_reply.started": "2023-01-18T22:51:42.387450Z"
    }
   },
   "outputs": [
    {
     "name": "stdout",
     "output_type": "stream",
     "text": [
      "- - - - - - - - - - - - - - - - - - - - - - - - - - - - - - - - - - - - - - - - \n",
      "Classes are Counter({8: 789, 2: 736, 5: 506, 14: 443, 0: 355, 11: 245, 15: 178, 6: 163, 4: 94, 7: 61, 3: 53, 16: 47, 13: 46, 9: 46, 1: 41, 12: 38, 17: 36, 10: 33})\n",
      "- - - - - - - - - - - - - - - - - - - - - - - - - - - - - - - - - - - - - - - - \n",
      "- - - - - - - - - - - - - - - - - - - - - - - - - - - - - - - - - - - - - - - - \n",
      "starting sent2vec ...\n"
     ]
    },
    {
     "data": {
      "application/vnd.jupyter.widget-view+json": {
       "model_id": "f1f6cd542bf0495882198c55919883a2",
       "version_major": 2,
       "version_minor": 0
      },
      "text/plain": [
       "  0%|          | 0/3910 [00:00<?, ?it/s]"
      ]
     },
     "metadata": {},
     "output_type": "display_data"
    },
    {
     "name": "stderr",
     "output_type": "stream",
     "text": [
      "/usr/local/lib/python3.9/dist-packages/imblearn/over_sampling/_smote/base.py:336: FutureWarning: The parameter `n_jobs` has been deprecated in 0.10 and will be removed in 0.12. You can pass an nearest neighbors estimator where `n_jobs` is already set instead.\n",
      "  warnings.warn(\n"
     ]
    },
    {
     "name": "stdout",
     "output_type": "stream",
     "text": [
      " sent2vec done :)\n",
      "- - - - - - - - - - - - - - - - - - - - - - - - - - - - - - - - - - - - - - - - \n",
      "transformation from 1D to nD is done\n",
      "- - - - - - - - - - - - - - - - - - - - - - - - - - - - - - - - - - - - - - - - \n",
      "Banalancing data is starting  ...\n",
      "Banalancing data with smoteis Done :)\n",
      "- - - - - - - - - - - - - - - - - - - - - - - - - - - - - - - - - - - - - - - - \n",
      "shape of dataframe is (14202, 101)\n",
      "Classes in the end are Counter({0: 789, 8: 789, 17: 789, 14: 789, 2: 789, 4: 789, 5: 789, 11: 789, 3: 789, 10: 789, 6: 789, 15: 789, 13: 789, 1: 789, 12: 789, 16: 789, 7: 789, 9: 789})\n"
     ]
    }
   ],
   "source": [
    "clf = Classification(X_train.seq, y_train, vecW=\"fasttext\")\n",
    "clf.fit()\n",
    "clf.transform()\n",
    "clf.balance(algo=\"smote\")\n",
    "# pca = clf.fitPca(\n",
    "#     n_components=30, verbose=True\n",
    "# )  # if you comment this you should comment [ to be commented 1]\n",
    "X_train_embed = clf.todataFrame(\n",
    "    # withPca=True\n",
    ")  # [ to be commented 1]"
   ]
  },
  {
   "cell_type": "code",
   "execution_count": 51,
   "id": "f59cdda5-d2be-4e52-83ef-a2c605a5a799",
   "metadata": {
    "execution": {
     "iopub.execute_input": "2023-01-18T22:51:42.668363Z",
     "iopub.status.busy": "2023-01-18T22:51:42.662940Z",
     "iopub.status.idle": "2023-01-18T22:51:42.777468Z",
     "shell.execute_reply": "2023-01-18T22:51:42.776470Z",
     "shell.execute_reply.started": "2023-01-18T22:51:42.668294Z"
    }
   },
   "outputs": [
    {
     "name": "stdout",
     "output_type": "stream",
     "text": [
      "- - - - - - - - - - - - - - - - - - - - - - - - - - - - - - - - - - - - - - - - \n",
      "Classes are Counter({8: 209, 2: 203, 5: 119, 14: 105, 0: 85, 11: 60, 15: 48, 6: 39, 4: 18, 16: 13, 13: 13, 7: 13, 9: 11, 17: 10, 10: 10, 1: 9, 3: 7, 12: 6})\n",
      "- - - - - - - - - - - - - - - - - - - - - - - - - - - - - - - - - - - - - - - - \n",
      "- - - - - - - - - - - - - - - - - - - - - - - - - - - - - - - - - - - - - - - - \n",
      "starting sent2vec ...\n"
     ]
    },
    {
     "data": {
      "application/vnd.jupyter.widget-view+json": {
       "model_id": "6f13458823df4efdb3a61f9cf24a178a",
       "version_major": 2,
       "version_minor": 0
      },
      "text/plain": [
       "  0%|          | 0/978 [00:00<?, ?it/s]"
      ]
     },
     "metadata": {},
     "output_type": "display_data"
    },
    {
     "name": "stdout",
     "output_type": "stream",
     "text": [
      " sent2vec done :)\n",
      "- - - - - - - - - - - - - - - - - - - - - - - - - - - - - - - - - - - - - - - - \n",
      "transformation from 1D to nD is done\n",
      "- - - - - - - - - - - - - - - - - - - - - - - - - - - - - - - - - - - - - - - - \n",
      "- - - - - - - - - - - - - - - - - - - - - - - - - - - - - - - - - - - - - - - - \n",
      "shape of dataframe is (978, 101)\n",
      "Classes in the end are Counter({8: 209, 2: 203, 5: 119, 14: 105, 0: 85, 11: 60, 15: 48, 6: 39, 4: 18, 16: 13, 13: 13, 7: 13, 9: 11, 17: 10, 10: 10, 1: 9, 3: 7, 12: 6})\n"
     ]
    }
   ],
   "source": [
    "clf_unseen = Classification(X_test.seq, y_test, vecW=\"fasttext\")\n",
    "clf_unseen.fit()\n",
    "clf_unseen.transform()\n",
    "# clf_unseen.fitPca(pca=pca)\n",
    "\n",
    "X_test_embed = clf_unseen.todataFrame(\n",
    "    # withPca=True\n",
    ")"
   ]
  },
  {
   "cell_type": "code",
   "execution_count": 52,
   "id": "23223d62-e1c2-4fd3-a484-4bb344be3293",
   "metadata": {
    "execution": {
     "iopub.execute_input": "2023-01-18T22:51:44.958226Z",
     "iopub.status.busy": "2023-01-18T22:51:44.957872Z",
     "iopub.status.idle": "2023-01-18T22:51:44.979401Z",
     "shell.execute_reply": "2023-01-18T22:51:44.977039Z",
     "shell.execute_reply.started": "2023-01-18T22:51:44.958200Z"
    }
   },
   "outputs": [],
   "source": [
    "# X_train_embed = pd.read_csv(\"X_train_embed.csv\", index_col=0)\n",
    "y_train_embed = X_train_embed[\"label_orig\"]\n",
    "X_train_embed = X_train_embed[X_train_embed.columns.difference([\"label_orig\"])]\n",
    "# X_test_embed = pd.read_csv(\"X_test_embed.csv\", index_col=0)\n",
    "y_test_embed = X_test_embed[\"label_orig\"]\n",
    "X_test_embed = X_test_embed[X_test_embed.columns.difference([\"label_orig\"])]"
   ]
  },
  {
   "cell_type": "code",
   "execution_count": 53,
   "id": "088cbc29-8dee-4ee2-8b12-7b358dc992ce",
   "metadata": {
    "execution": {
     "iopub.execute_input": "2023-01-18T22:51:46.279946Z",
     "iopub.status.busy": "2023-01-18T22:51:46.279201Z",
     "iopub.status.idle": "2023-01-18T22:51:52.072800Z",
     "shell.execute_reply": "2023-01-18T22:51:52.070298Z",
     "shell.execute_reply.started": "2023-01-18T22:51:46.279891Z"
    }
   },
   "outputs": [
    {
     "name": "stdout",
     "output_type": "stream",
     "text": [
      "Collecting lightgbm\n",
      "  Downloading lightgbm-3.3.4-py3-none-manylinux1_x86_64.whl (2.0 MB)\n",
      "\u001b[2K     \u001b[90m━━━━━━━━━━━━━━━━━━━━━━━━━━━━━━━━━━━━━━━━\u001b[0m \u001b[32m2.0/2.0 MB\u001b[0m \u001b[31m23.2 MB/s\u001b[0m eta \u001b[36m0:00:00\u001b[0m00:01\u001b[0m00:01\u001b[0m\n",
      "\u001b[?25hRequirement already satisfied: numpy in /usr/local/lib/python3.9/dist-packages (from lightgbm) (1.23.1)\n",
      "Requirement already satisfied: scipy in /usr/local/lib/python3.9/dist-packages (from lightgbm) (1.8.1)\n",
      "Requirement already satisfied: wheel in /usr/local/lib/python3.9/dist-packages (from lightgbm) (0.35.1)\n",
      "Requirement already satisfied: scikit-learn!=0.22.0 in /usr/local/lib/python3.9/dist-packages (from lightgbm) (1.1.1)\n",
      "Requirement already satisfied: joblib>=1.0.0 in /usr/local/lib/python3.9/dist-packages (from scikit-learn!=0.22.0->lightgbm) (1.2.0)\n",
      "Requirement already satisfied: threadpoolctl>=2.0.0 in /usr/local/lib/python3.9/dist-packages (from scikit-learn!=0.22.0->lightgbm) (3.1.0)\n",
      "Installing collected packages: lightgbm\n",
      "Successfully installed lightgbm-3.3.4\n",
      "\u001b[33mWARNING: Running pip as the 'root' user can result in broken permissions and conflicting behaviour with the system package manager. It is recommended to use a virtual environment instead: https://pip.pypa.io/warnings/venv\u001b[0m\u001b[33m\n",
      "\u001b[0m"
     ]
    },
    {
     "ename": "NameError",
     "evalue": "name 'clear_output' is not defined",
     "output_type": "error",
     "traceback": [
      "\u001b[0;31m---------------------------------------------------------------------------\u001b[0m",
      "\u001b[0;31mNameError\u001b[0m                                 Traceback (most recent call last)",
      "Input \u001b[0;32mIn [53]\u001b[0m, in \u001b[0;36m<cell line: 5>\u001b[0;34m()\u001b[0m\n\u001b[1;32m      1\u001b[0m \u001b[38;5;66;03m# !pip install catboost\u001b[39;00m\n\u001b[1;32m      2\u001b[0m \u001b[38;5;66;03m# !pip install xgboost\u001b[39;00m\n\u001b[1;32m      3\u001b[0m \u001b[38;5;66;03m# !pip install lazypredict\u001b[39;00m\n\u001b[1;32m      4\u001b[0m get_ipython()\u001b[38;5;241m.\u001b[39msystem(\u001b[38;5;124m'\u001b[39m\u001b[38;5;124mpip install lightgbm\u001b[39m\u001b[38;5;124m'\u001b[39m)\n\u001b[0;32m----> 5\u001b[0m \u001b[43mclear_output\u001b[49m()\n",
      "\u001b[0;31mNameError\u001b[0m: name 'clear_output' is not defined"
     ]
    }
   ],
   "source": [
    "# !pip install catboost\n",
    "# !pip install xgboost\n",
    "# !pip install lazypredict\n",
    "!pip install lightgbm\n",
    "clear_output()"
   ]
  },
  {
   "cell_type": "code",
   "execution_count": null,
   "id": "19d915a0-1245-49b4-9634-e19f8c565978",
   "metadata": {
    "execution": {
     "iopub.status.busy": "2023-01-18T22:51:52.074047Z",
     "iopub.status.idle": "2023-01-18T22:51:52.074690Z",
     "shell.execute_reply": "2023-01-18T22:51:52.074438Z",
     "shell.execute_reply.started": "2023-01-18T22:51:52.074408Z"
    }
   },
   "outputs": [],
   "source": [
    "# import lazypredict\n",
    "# from lazypredict.Supervised import LazyClassifier\n",
    "# from sklearn.datasets import load_breast_cancer\n",
    "# from sklearn.model_selection import train_test_split\n",
    "\n",
    "# clf = LazyClassifier(verbose=0, ignore_warnings=True, custom_metric=None)\n",
    "# models, predictions = clf.fit(X_train_embed, X_test_embed, y_train_embed, y_test_embed)\n",
    "\n",
    "# print(models)"
   ]
  },
  {
   "cell_type": "code",
   "execution_count": 55,
   "id": "3ea51ad2-68ba-4b92-8794-891c0eb2de9b",
   "metadata": {
    "execution": {
     "iopub.execute_input": "2023-01-18T22:51:56.308358Z",
     "iopub.status.busy": "2023-01-18T22:51:56.307920Z",
     "iopub.status.idle": "2023-01-18T22:52:37.053483Z",
     "shell.execute_reply": "2023-01-18T22:52:37.051800Z",
     "shell.execute_reply.started": "2023-01-18T22:51:56.308324Z"
    }
   },
   "outputs": [
    {
     "data": {
      "text/html": [
       "<style>#sk-container-id-3 {color: black;background-color: white;}#sk-container-id-3 pre{padding: 0;}#sk-container-id-3 div.sk-toggleable {background-color: white;}#sk-container-id-3 label.sk-toggleable__label {cursor: pointer;display: block;width: 100%;margin-bottom: 0;padding: 0.3em;box-sizing: border-box;text-align: center;}#sk-container-id-3 label.sk-toggleable__label-arrow:before {content: \"▸\";float: left;margin-right: 0.25em;color: #696969;}#sk-container-id-3 label.sk-toggleable__label-arrow:hover:before {color: black;}#sk-container-id-3 div.sk-estimator:hover label.sk-toggleable__label-arrow:before {color: black;}#sk-container-id-3 div.sk-toggleable__content {max-height: 0;max-width: 0;overflow: hidden;text-align: left;background-color: #f0f8ff;}#sk-container-id-3 div.sk-toggleable__content pre {margin: 0.2em;color: black;border-radius: 0.25em;background-color: #f0f8ff;}#sk-container-id-3 input.sk-toggleable__control:checked~div.sk-toggleable__content {max-height: 200px;max-width: 100%;overflow: auto;}#sk-container-id-3 input.sk-toggleable__control:checked~label.sk-toggleable__label-arrow:before {content: \"▾\";}#sk-container-id-3 div.sk-estimator input.sk-toggleable__control:checked~label.sk-toggleable__label {background-color: #d4ebff;}#sk-container-id-3 div.sk-label input.sk-toggleable__control:checked~label.sk-toggleable__label {background-color: #d4ebff;}#sk-container-id-3 input.sk-hidden--visually {border: 0;clip: rect(1px 1px 1px 1px);clip: rect(1px, 1px, 1px, 1px);height: 1px;margin: -1px;overflow: hidden;padding: 0;position: absolute;width: 1px;}#sk-container-id-3 div.sk-estimator {font-family: monospace;background-color: #f0f8ff;border: 1px dotted black;border-radius: 0.25em;box-sizing: border-box;margin-bottom: 0.5em;}#sk-container-id-3 div.sk-estimator:hover {background-color: #d4ebff;}#sk-container-id-3 div.sk-parallel-item::after {content: \"\";width: 100%;border-bottom: 1px solid gray;flex-grow: 1;}#sk-container-id-3 div.sk-label:hover label.sk-toggleable__label {background-color: #d4ebff;}#sk-container-id-3 div.sk-serial::before {content: \"\";position: absolute;border-left: 1px solid gray;box-sizing: border-box;top: 0;bottom: 0;left: 50%;z-index: 0;}#sk-container-id-3 div.sk-serial {display: flex;flex-direction: column;align-items: center;background-color: white;padding-right: 0.2em;padding-left: 0.2em;position: relative;}#sk-container-id-3 div.sk-item {position: relative;z-index: 1;}#sk-container-id-3 div.sk-parallel {display: flex;align-items: stretch;justify-content: center;background-color: white;position: relative;}#sk-container-id-3 div.sk-item::before, #sk-container-id-3 div.sk-parallel-item::before {content: \"\";position: absolute;border-left: 1px solid gray;box-sizing: border-box;top: 0;bottom: 0;left: 50%;z-index: -1;}#sk-container-id-3 div.sk-parallel-item {display: flex;flex-direction: column;z-index: 1;position: relative;background-color: white;}#sk-container-id-3 div.sk-parallel-item:first-child::after {align-self: flex-end;width: 50%;}#sk-container-id-3 div.sk-parallel-item:last-child::after {align-self: flex-start;width: 50%;}#sk-container-id-3 div.sk-parallel-item:only-child::after {width: 0;}#sk-container-id-3 div.sk-dashed-wrapped {border: 1px dashed gray;margin: 0 0.4em 0.5em 0.4em;box-sizing: border-box;padding-bottom: 0.4em;background-color: white;}#sk-container-id-3 div.sk-label label {font-family: monospace;font-weight: bold;display: inline-block;line-height: 1.2em;}#sk-container-id-3 div.sk-label-container {text-align: center;}#sk-container-id-3 div.sk-container {/* jupyter's `normalize.less` sets `[hidden] { display: none; }` but bootstrap.min.css set `[hidden] { display: none !important; }` so we also need the `!important` here to be able to override the default hidden behavior on the sphinx rendered scikit-learn.org. See: https://github.com/scikit-learn/scikit-learn/issues/21755 */display: inline-block !important;position: relative;}#sk-container-id-3 div.sk-text-repr-fallback {display: none;}</style><div id=\"sk-container-id-3\" class=\"sk-top-container\"><div class=\"sk-text-repr-fallback\"><pre>LGBMClassifier()</pre><b>In a Jupyter environment, please rerun this cell to show the HTML representation or trust the notebook. <br />On GitHub, the HTML representation is unable to render, please try loading this page with nbviewer.org.</b></div><div class=\"sk-container\" hidden><div class=\"sk-item\"><div class=\"sk-estimator sk-toggleable\"><input class=\"sk-toggleable__control sk-hidden--visually\" id=\"sk-estimator-id-5\" type=\"checkbox\" checked><label for=\"sk-estimator-id-5\" class=\"sk-toggleable__label sk-toggleable__label-arrow\">LGBMClassifier</label><div class=\"sk-toggleable__content\"><pre>LGBMClassifier()</pre></div></div></div></div></div>"
      ],
      "text/plain": [
       "LGBMClassifier()"
      ]
     },
     "execution_count": 55,
     "metadata": {},
     "output_type": "execute_result"
    }
   ],
   "source": [
    "# build the lightgbm model\n",
    "import lightgbm as lgb\n",
    "\n",
    "clf_lgb = lgb.LGBMClassifier()\n",
    "clf_lgb.fit(X_train_embed, y_train_embed)"
   ]
  },
  {
   "cell_type": "code",
   "execution_count": 58,
   "id": "d218a9e8-ba6b-441b-a057-dc7f845f5603",
   "metadata": {
    "execution": {
     "iopub.execute_input": "2023-01-18T22:53:20.022038Z",
     "iopub.status.busy": "2023-01-18T22:53:20.021673Z",
     "iopub.status.idle": "2023-01-18T22:53:20.121516Z",
     "shell.execute_reply": "2023-01-18T22:53:20.120161Z",
     "shell.execute_reply.started": "2023-01-18T22:53:20.022011Z"
    }
   },
   "outputs": [
    {
     "name": "stdout",
     "output_type": "stream",
     "text": [
      "              precision    recall  f1-score   support\n",
      "\n",
      "           0       0.11      0.07      0.09        85\n",
      "           1       0.00      0.00      0.00         9\n",
      "           2       0.25      0.26      0.25       203\n",
      "           3       0.00      0.00      0.00         7\n",
      "           4       0.00      0.00      0.00        18\n",
      "           5       0.14      0.14      0.14       119\n",
      "           6       0.00      0.00      0.00        39\n",
      "           7       0.00      0.00      0.00        13\n",
      "           8       0.20      0.26      0.23       209\n",
      "           9       0.00      0.00      0.00        11\n",
      "          10       0.02      0.20      0.03        10\n",
      "          11       0.14      0.07      0.09        60\n",
      "          12       0.00      0.00      0.00         6\n",
      "          13       0.00      0.00      0.00        13\n",
      "          14       0.10      0.09      0.09       105\n",
      "          15       0.00      0.00      0.00        48\n",
      "          16       0.00      0.00      0.00        13\n",
      "          17       0.00      0.00      0.00        10\n",
      "\n",
      "    accuracy                           0.15       978\n",
      "   macro avg       0.05      0.06      0.05       978\n",
      "weighted avg       0.14      0.15      0.14       978\n",
      "\n"
     ]
    },
    {
     "name": "stderr",
     "output_type": "stream",
     "text": [
      "/usr/local/lib/python3.9/dist-packages/sklearn/metrics/_classification.py:1327: UndefinedMetricWarning: Precision and F-score are ill-defined and being set to 0.0 in labels with no predicted samples. Use `zero_division` parameter to control this behavior.\n",
      "  _warn_prf(average, modifier, msg_start, len(result))\n",
      "/usr/local/lib/python3.9/dist-packages/sklearn/metrics/_classification.py:1327: UndefinedMetricWarning: Precision and F-score are ill-defined and being set to 0.0 in labels with no predicted samples. Use `zero_division` parameter to control this behavior.\n",
      "  _warn_prf(average, modifier, msg_start, len(result))\n",
      "/usr/local/lib/python3.9/dist-packages/sklearn/metrics/_classification.py:1327: UndefinedMetricWarning: Precision and F-score are ill-defined and being set to 0.0 in labels with no predicted samples. Use `zero_division` parameter to control this behavior.\n",
      "  _warn_prf(average, modifier, msg_start, len(result))\n"
     ]
    }
   ],
   "source": [
    "test_pred_lbg_proba = clf_lgb.predict_proba(X_test_embed)\n",
    "test_pred_lbg = clf_lgb.predict(X_test_embed)\n",
    "\n",
    "# Print a classification report\n",
    "print(\n",
    "    classification_report(y_test, test_pred_lbg)\n",
    ")  # this threshold gives the best weighed average from the ROC curves"
   ]
  },
  {
   "cell_type": "code",
   "execution_count": 59,
   "id": "54ed7cb2-dd8f-40f6-91a2-612b2b6df349",
   "metadata": {
    "execution": {
     "iopub.execute_input": "2023-01-18T22:53:24.567784Z",
     "iopub.status.busy": "2023-01-18T22:53:24.567342Z",
     "iopub.status.idle": "2023-01-18T22:53:24.581033Z",
     "shell.execute_reply": "2023-01-18T22:53:24.579424Z",
     "shell.execute_reply.started": "2023-01-18T22:53:24.567784Z"
    }
   },
   "outputs": [
    {
     "name": "stdout",
     "output_type": "stream",
     "text": [
      "loss = 2.883280706220185 and accuracy accuracy = 14.93\n"
     ]
    }
   ],
   "source": [
    "weighted_mc_log_loss(y_test, test_pred_lbg, test_pred_lbg_proba)"
   ]
  },
  {
   "cell_type": "code",
   "execution_count": null,
   "id": "2e98e236-b158-415a-a61d-400eec340545",
   "metadata": {},
   "outputs": [],
   "source": []
  }
 ],
 "metadata": {
  "kernelspec": {
   "display_name": "Python 3 (ipykernel)",
   "language": "python",
   "name": "python3"
  },
  "language_info": {
   "codemirror_mode": {
    "name": "ipython",
    "version": 3
   },
   "file_extension": ".py",
   "mimetype": "text/x-python",
   "name": "python",
   "nbconvert_exporter": "python",
   "pygments_lexer": "ipython3",
   "version": "3.9.13"
  }
 },
 "nbformat": 4,
 "nbformat_minor": 5
}
